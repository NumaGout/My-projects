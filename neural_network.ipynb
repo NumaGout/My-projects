{
 "cells": [
  {
   "cell_type": "markdown",
   "metadata": {},
   "source": [
    "# BE réseaux de neurones par Gout Numa et Goutal Joad"
   ]
  },
  {
   "cell_type": "code",
   "execution_count": 35,
   "metadata": {},
   "outputs": [],
   "source": [
    "import numpy as np\n",
    "import matplotlib.pyplot as plt\n",
    "%matplotlib inline"
   ]
  },
  {
   "cell_type": "markdown",
   "metadata": {},
   "source": [
    "## Exemple de réseaux de neurones sans couche cachée"
   ]
  },
  {
   "cell_type": "code",
   "execution_count": 3,
   "metadata": {},
   "outputs": [],
   "source": [
    "# La sortie Y=1 si x1=1 (ou bien y=x1 and x3)\n",
    "# Pas de hidden couche, donc les résultats ne seront pas top.\n",
    "# La fonction de combinaison (ici une sigmoide)\n",
    "def sigmoide(x) : return 1/(1+np.exp(-x))\n",
    "# Et sa dérivée\n",
    "def derivee_de_sigmoide(x) : return x*(1-x)"
   ]
  },
  {
   "cell_type": "code",
   "execution_count": 21,
   "metadata": {},
   "outputs": [],
   "source": [
    "# Les entrées\n",
    "X = np.array([[0,0,1],\n",
    "              [0,1,1],\n",
    "              [1,0,1],\n",
    "              [1,1,1]])"
   ]
  },
  {
   "cell_type": "code",
   "execution_count": 22,
   "metadata": {},
   "outputs": [],
   "source": [
    "# Les sorties (ici un vecteur)\n",
    "Y = np.array([[0,0,1,1]]).T # Transposé"
   ]
  },
  {
   "cell_type": "code",
   "execution_count": 34,
   "metadata": {},
   "outputs": [],
   "source": [
    "def RN_une_couche(X, Y):\n",
    "    # On utilise seed pour rendre les calculs déterministes.\n",
    "    np.random.seed(1)\n",
    "    # Initialisation aléatoire des poids (avec une moyenne = 0)\n",
    "    synapse0 = 2*np.random.random((3,1)) -1\n",
    "    couche_entree = X\n",
    "    suivi_sortie = []\n",
    "    suivi_erreur = []\n",
    "    for iter in range(10000): # On peut augmenter !\n",
    "        # propagation vers l’avant (forward)\n",
    "        couche_sortie = sigmoide(np.dot(couche_entree,synapse0)) # dot multiplication\n",
    "        \n",
    "        # Quelle est l’erreur (l’écart entre les sorties calculées et attendues)\n",
    "        erreur_couche_sortie = Y - couche_sortie\n",
    "        suivi_erreur.append(erreur_couche_sortie)\n",
    "        \n",
    "        # Multiplier l’erreur (l’écart) par la pente du ïsigmode pour les valeurs dans couche_sortie\n",
    "        delta_couche_sortie = erreur_couche_sortie * derivee_de_sigmoide(couche_sortie)\n",
    "        \n",
    "        # Mise àjour des poids : rétropropagation\n",
    "        synapse0 += np.dot(couche_entree.T,delta_couche_sortie)\n",
    "        if iter%1000 == 0:\n",
    "            suivi_sortie.append(couche_sortie)\n",
    "    suivi_sortie.append(couche_sortie)\n",
    "    \n",
    "    return (couche_sortie, suivi_sortie, suivi_erreur)"
   ]
  },
  {
   "cell_type": "code",
   "execution_count": 31,
   "metadata": {},
   "outputs": [
    {
     "name": "stdout",
     "output_type": "stream",
     "text": [
      "Les sorties après l’apprentissage :\n"
     ]
    },
    {
     "data": {
      "text/plain": [
       "array([[0.00966449],\n",
       "       [0.00786506],\n",
       "       [0.99358898],\n",
       "       [0.99211957]])"
      ]
     },
     "execution_count": 31,
     "metadata": {},
     "output_type": "execute_result"
    }
   ],
   "source": [
    "print (\"Les sorties après l’apprentissage :\")\n",
    "RN_une_couche(X, Y)[0]"
   ]
  },
  {
   "cell_type": "code",
   "execution_count": 33,
   "metadata": {},
   "outputs": [
    {
     "name": "stdout",
     "output_type": "stream",
     "text": [
      "Couche sortie itération 0 :\n",
      "[[0.2689864 ]\n",
      " [0.36375058]\n",
      " [0.23762817]\n",
      " [0.3262757 ]]\n",
      "\n",
      "Couche sortie itération 1000 :\n",
      "[[0.03176745]\n",
      " [0.02575143]\n",
      " [0.97907779]\n",
      " [0.97416005]]\n",
      "\n",
      "Couche sortie itération 2000 :\n",
      "[[0.02210122]\n",
      " [0.01793507]\n",
      " [0.985409  ]\n",
      " [0.98200541]]\n",
      "\n",
      "Couche sortie itération 3000 :\n",
      "[[0.0179128 ]\n",
      " [0.01454746]\n",
      " [0.98815758]\n",
      " [0.98540875]]\n",
      "\n",
      "Couche sortie itération 4000 :\n",
      "[[0.01544409]\n",
      " [0.0125494 ]\n",
      " [0.98978021]\n",
      " [0.98741602]]\n",
      "\n",
      "Couche sortie itération 5000 :\n",
      "[[0.01377152]\n",
      " [0.01119485]\n",
      " [0.99088089]\n",
      " [0.98877656]]\n",
      "\n",
      "Couche sortie itération 6000 :\n",
      "[[0.01254323]\n",
      " [0.01019961]\n",
      " [0.99168995]\n",
      " [0.98977602]]\n",
      "\n",
      "Couche sortie itération 7000 :\n",
      "[[0.01159234]\n",
      " [0.0094288 ]\n",
      " [0.99231678]\n",
      " [0.99054995]]\n",
      "\n",
      "Couche sortie itération 8000 :\n",
      "[[0.01082824]\n",
      " [0.00880917]\n",
      " [0.99282079]\n",
      " [0.99117199]]\n",
      "\n",
      "Couche sortie itération 9000 :\n",
      "[[0.01019693]\n",
      " [0.00829707]\n",
      " [0.99323743]\n",
      " [0.991686  ]]\n",
      "\n",
      "Couche sortie itération 10000 :\n",
      "[[0.00966449]\n",
      " [0.00786506]\n",
      " [0.99358898]\n",
      " [0.99211957]]\n",
      "\n"
     ]
    }
   ],
   "source": [
    "suivi_sortie = RN_une_couche(X, Y)[1]\n",
    "for i in range(len(suivi_sortie)):\n",
    "    print('Couche sortie itération '+str(i*1000)+' :')\n",
    "    print(str(suivi_sortie[i])+'\\n')"
   ]
  },
  {
   "cell_type": "code",
   "execution_count": 37,
   "metadata": {},
   "outputs": [
    {
     "data": {
      "text/plain": [
       "Text(0.5, 1.0, 'Erreur couche sortie en fonction des itérations pour chaque individu')"
      ]
     },
     "execution_count": 37,
     "metadata": {},
     "output_type": "execute_result"
    },
    {
     "data": {
      "image/png": "[encoded data removed]",
      "text/plain": [
       "<Figure size 432x288 with 1 Axes>"
      ]
     },
     "metadata": {
      "needs_background": "light"
     },
     "output_type": "display_data"
    }
   ],
   "source": [
    "suivi_erreur = RN_une_couche(X, Y)[2]\n",
    "for i in range(len(suivi_erreur[0])):\n",
    "    erreur_individu = [suivi_erreur[j][i] for j in range(len(suivi_erreur))]\n",
    "    plt.plot(erreur_individu)\n",
    "plt.title('Erreur couche sortie en fonction des itérations pour chaque individu')"
   ]
  },
  {
   "cell_type": "code",
   "execution_count": 38,
   "metadata": {},
   "outputs": [],
   "source": [
    "X_complt = np.array([[0, 0, 0], \n",
    "                     [0, 0, 1], \n",
    "                     [0, 1, 0], \n",
    "                     [0, 1, 1], \n",
    "                     [1, 0, 0], \n",
    "                     [1, 0, 1], \n",
    "                     [1, 1, 0], \n",
    "                     [1, 1, 1]])\n",
    "\n",
    "Y_x = np.array([[0, 0, 0, 0, 1, 1, 1, 1]]).T\n",
    "Y_et = np.array([[0, 0, 0, 0, 0, 1, 0, 1]]).T"
   ]
  },
  {
   "cell_type": "code",
   "execution_count": 39,
   "metadata": {},
   "outputs": [
    {
     "name": "stdout",
     "output_type": "stream",
     "text": [
      "Sortie après l'apprentissage pour y = x1 :\n",
      "[[5.00000000e-01]\n",
      " [1.45083616e-02]\n",
      " [1.45083616e-02]\n",
      " [2.16688937e-04]\n",
      " [9.99997245e-01]\n",
      " [9.99812924e-01]\n",
      " [9.99812924e-01]\n",
      " [9.87449870e-01]]\n",
      "\n",
      " Sortie après l'apprentissage pour y = x1&x3 :\n",
      "[[0.5       ]\n",
      " [0.61469127]\n",
      " [0.19762168]\n",
      " [0.28208343]\n",
      " [0.61469127]\n",
      " [0.71791657]\n",
      " [0.28208343]\n",
      " [0.38530873]]\n"
     ]
    }
   ],
   "source": [
    "print(\"Sortie après l'apprentissage pour y = x1 :\")\n",
    "print(RN_une_couche(X_complt, Y_x)[0])\n",
    "print(\"\\n Sortie après l'apprentissage pour y = x1&x3 :\")\n",
    "print(RN_une_couche(X_complt, Y_et)[0])"
   ]
  },
  {
   "cell_type": "markdown",
   "metadata": {},
   "source": [
    "Notre RN apprend bien lorsque qu'il s'agit de relation directe, comme $y = x_1$. Pour d'autre relation un tout petit plus complexe il n'y arrive pas très bien. C'est le cas de $y = x_1 \\text{ and } x_3$"
   ]
  },
  {
   "cell_type": "markdown",
   "metadata": {},
   "source": [
    "## Un exemple plus compliqué"
   ]
  },
  {
   "cell_type": "code",
   "execution_count": 94,
   "metadata": {},
   "outputs": [],
   "source": [
    "def sigmoide_et_sa_derivee(x,deriv=False):\n",
    "    if(deriv==True):\n",
    "        return np.exp(-x)/((1+np.exp(-x))**2)\n",
    "    return 1/(1+np.exp(-x))"
   ]
  },
  {
   "cell_type": "code",
   "execution_count": 117,
   "metadata": {},
   "outputs": [],
   "source": [
    "def RN_couche_cachee(X, y, fonction_activation):\n",
    "    # On utilise seed pour rendre les calculs déterministes.\n",
    "    np.random.seed(1)\n",
    "    \n",
    "    # Initialisation aléatoire des poids (avec une moyenne = 0 et écart􀀀type=1)\n",
    "    # Ici, on met la moyenne à zéro, le std ne change pas.\n",
    "    \n",
    "    # L’écriture X = b*np.random.random((3,4)) - a\n",
    "    # permet un tirage dans [a,b)], ici entre b=1 et a=-1 (donc moyenne=0)\n",
    "    synapse0 = 2*np.random.random((3,4)) - 1\n",
    "    synapse1 = 2*np.random.random((4,1)) - 1\n",
    "    couche_entree = X\n",
    "    nb_iterations = 100000\n",
    "    err = []\n",
    "    for j in range(nb_iterations):\n",
    "        # propagation vers l’avant (forward)\n",
    "        # couche_entree = X\n",
    "        ponderation_cachee = np.dot(couche_entree,synapse0)\n",
    "        couche_cachee = fonction_activation(ponderation_cachee)\n",
    "        ponderation_sortie = np.dot(couche_cachee,synapse1)\n",
    "        couche_sortie = fonction_activation(ponderation_sortie)\n",
    "        \n",
    "        # erreur ?\n",
    "        erreur_couche_sortie = y - couche_sortie\n",
    "        \n",
    "        moy=np.mean(np.abs(erreur_couche_sortie))\n",
    "        err.append(abs(moy))\n",
    "            \n",
    "        # pondération par l’erreur (si pente douce, ne pas trop changer sinon, changer pondérations,\n",
    "        delta_couche_sortie = erreur_couche_sortie*fonction_activation(ponderation_sortie,deriv=True)\n",
    "        \n",
    "        # Quelle est la contribution de couche_cachee àl’erreur de couche_sortie\n",
    "        # (suivant les pondérations)?\n",
    "        error_couche_cachee = delta_couche_sortie.dot(synapse1.T)\n",
    "        \n",
    "        # Quelle est la \"direction\" de couche_cachee (dérivée) ?\n",
    "        # Si OK, ne pas trop changer la valeur.\n",
    "        delta_couche_cachee = error_couche_cachee * fonction_activation(ponderation_cachee,deriv=True)\n",
    "        synapse1 += couche_cachee.T.dot(delta_couche_sortie)\n",
    "        synapse0 += couche_entree.T.dot(delta_couche_cachee)\n",
    "    return couche_sortie, synapse0, synapse1, err"
   ]
  },
  {
   "cell_type": "code",
   "execution_count": 153,
   "metadata": {},
   "outputs": [
    {
     "name": "stdout",
     "output_type": "stream",
     "text": [
      "Résultat de l’apprentissage :\n"
     ]
    },
    {
     "data": {
      "text/plain": [
       "array([[0.00199094],\n",
       "       [0.99751458],\n",
       "       [0.99771098],\n",
       "       [0.00294418]])"
      ]
     },
     "execution_count": 153,
     "metadata": {},
     "output_type": "execute_result"
    }
   ],
   "source": [
    "# Les entrées\n",
    "X = np.array([[0,0,1],\n",
    "              [0,1,1],\n",
    "              [1,0,1],\n",
    "              [1,1,1]])\n",
    "# Les sorties (ici un vecteur)\n",
    "Y = np.array([[0, 1, 1, 0]]).T # Transposé\n",
    "\n",
    "print (\"Résultat de l’apprentissage :\")\n",
    "RN_couche_cachee(X, Y, sigmoide_et_sa_derivee)[0]"
   ]
  },
  {
   "cell_type": "markdown",
   "metadata": {},
   "source": [
    "Testons notre réseaux entrainé avec cette table de valeur \n",
    "\n",
    "| x_1 | x_2 | x_3 | Sorties |\n",
    "|-----|-----|-----|---------|\n",
    "| 1   | 0   | 0   | 1       |\n",
    "| 0   | 0   | 0   | 0       |\n",
    "| 0   | 1   | 0   | 1       |\n",
    "\n",
    "et comparons les prédictions à la vérité."
   ]
  },
  {
   "cell_type": "code",
   "execution_count": 67,
   "metadata": {},
   "outputs": [],
   "source": [
    "# entrées à tester\n",
    "X_test = np.array([[1, 0, 0], \n",
    "                   [0, 0, 0], \n",
    "                   [0, 1, 0]])\n",
    "\n",
    "# Sorties théoriques\n",
    "Y_test = np.array([[1, 0, 1]]).T\n",
    "\n",
    "# On teste notre réseaux sur d'autre input\n",
    "reseau_entraine = RN_couche_cachee(X, Y, sigmoide_et_sa_derivee)\n",
    "couche_cachee = sigmoide_et_sa_derivee(np.dot(X_test, reseau_entraine[1]))\n",
    "couche_sortie = sigmoide_et_sa_derivee(np.dot(couche_cachee, reseau_entraine[2]))\n",
    "print('Prédiction sortie : ')\n",
    "couche_sortie"
   ]
  },
  {
   "cell_type": "code",
   "execution_count": 73,
   "metadata": {},
   "outputs": [
    {
     "data": {
      "text/plain": [
       "0.09722857334304187"
      ]
     },
     "execution_count": 73,
     "metadata": {},
     "output_type": "execute_result"
    }
   ],
   "source": [
    "# Nous allons calculer le risque de l'estimateur pour la fonction de perte des moindres carrés\n",
    "erreur = 1/2*(couche_sortie - Y_test)**2\n",
    "risque = erreur.mean()\n",
    "risque"
   ]
  },
  {
   "cell_type": "markdown",
   "metadata": {},
   "source": [
    "On change de table de vérité et on choisit la table $x_1 \\wedge x_2 \\wedge \\neg x_3$"
   ]
  },
  {
   "cell_type": "code",
   "execution_count": 146,
   "metadata": {},
   "outputs": [
    {
     "name": "stdout",
     "output_type": "stream",
     "text": [
      "Sortie après l'apprentissage sigmoide : \n",
      "[[2.48028228e-04]\n",
      " [1.33210181e-09]\n",
      " [2.12695899e-03]\n",
      " [4.50353795e-05]\n",
      " [2.33382335e-03]\n",
      " [4.13944977e-05]\n",
      " [9.96477784e-01]\n",
      " [8.60003635e-04]]\n"
     ]
    },
    {
     "data": {
      "text/plain": [
       "Text(0.5, 1.0, \"Courbe d'erreur, sigmoide\")"
      ]
     },
     "execution_count": 146,
     "metadata": {},
     "output_type": "execute_result"
    },
    {
     "data": {
      "image/png": "[encoded data removed]",
      "text/plain": [
       "<Figure size 432x288 with 1 Axes>"
      ]
     },
     "metadata": {
      "needs_background": "light"
     },
     "output_type": "display_data"
    }
   ],
   "source": [
    "X_complt = np.array([[0, 0, 0], \n",
    "                     [0, 0, 1], \n",
    "                     [0, 1, 0], \n",
    "                     [0, 1, 1], \n",
    "                     [1, 0, 0], \n",
    "                     [1, 0, 1], \n",
    "                     [1, 1, 0], \n",
    "                     [1, 1, 1]])\n",
    "\n",
    "Y = np.array([[0, 0, 0, 0, 0, 0, 1, 0]]).T\n",
    "\n",
    "reseau_entraine = RN_couche_cachee(X_complt, Y, sigmoide_et_sa_derivee)\n",
    "print(\"Sortie après l'apprentissage sigmoide : \")\n",
    "print(reseau_entraine[0])\n",
    "plt.plot(reseau_entraine[3])\n",
    "plt.title(\"Courbe d'erreur, sigmoide\")"
   ]
  },
  {
   "cell_type": "code",
   "execution_count": 113,
   "metadata": {},
   "outputs": [],
   "source": [
    "def tangente_hyperbolique_et_derivee(x, deriv = False):\n",
    "    if deriv:\n",
    "        return (1-np.tanh(x)**2)/2\n",
    "    return (np.tanh(x)+1)/2"
   ]
  },
  {
   "cell_type": "code",
   "execution_count": 114,
   "metadata": {},
   "outputs": [],
   "source": [
    "def gaussienne_et_derivee(x, deriv = False):\n",
    "    if deriv:\n",
    "        return -2*x*np.exp(-x**2)\n",
    "    return np.exp(-x**2)"
   ]
  },
  {
   "cell_type": "code",
   "execution_count": 115,
   "metadata": {},
   "outputs": [],
   "source": [
    "def arctangente_et_derivee(x, deriv = False):\n",
    "    if deriv:\n",
    "        return 1/(1+x**2)\n",
    "    return (np.arctan(x)+np.pi/2)*(1/np.pi)"
   ]
  },
  {
   "cell_type": "code",
   "execution_count": 125,
   "metadata": {},
   "outputs": [
    {
     "name": "stdout",
     "output_type": "stream",
     "text": [
      "Sortie après l'apprentissage sigmoide : \n",
      "[[2.48028228e-04]\n",
      " [1.33210181e-09]\n",
      " [2.12695899e-03]\n",
      " [4.50353795e-05]\n",
      " [2.33382335e-03]\n",
      " [4.13944977e-05]\n",
      " [9.96477784e-01]\n",
      " [8.60003635e-04]]\n",
      "\n",
      "\n",
      "Sortie après l'apprentissage tanh : \n",
      "[[1.62549247e-04]\n",
      " [1.64527392e-10]\n",
      " [1.08117330e-03]\n",
      " [2.72394605e-05]\n",
      " [1.20002904e-03]\n",
      " [4.64030896e-05]\n",
      " [9.98232511e-01]\n",
      " [3.76439574e-04]]\n",
      "\n",
      "\n",
      "Sortie après l'apprentissage gaussienne : \n",
      "[[2.99118789e-29]\n",
      " [1.93955032e-09]\n",
      " [4.35895422e-04]\n",
      " [5.75007787e-10]\n",
      " [4.09915565e-04]\n",
      " [1.31024660e-04]\n",
      " [9.99154419e-01]\n",
      " [3.89596673e-04]]\n",
      "\n",
      "\n",
      "Sortie après l'apprentissage arctan : \n",
      "[[0.01413236]\n",
      " [0.0052599 ]\n",
      " [0.01561055]\n",
      " [0.00701101]\n",
      " [0.01535571]\n",
      " [0.00595065]\n",
      " [0.97836843]\n",
      " [0.0067402 ]]\n",
      "\n",
      "\n"
     ]
    },
    {
     "data": {
      "text/plain": [
       "Text(0.5, 1.0, \"Courbe d'erreur, arctan\")"
      ]
     },
     "execution_count": 125,
     "metadata": {},
     "output_type": "execute_result"
    },
    {
     "data": {
      "image/png": "[encoded data removed]",
      "text/plain": [
       "<Figure size 1080x720 with 4 Axes>"
      ]
     },
     "metadata": {
      "needs_background": "light"
     },
     "output_type": "display_data"
    }
   ],
   "source": [
    "# On trace toutes les erreurs des différentes fonctions d'activation\n",
    "fig = plt.figure(figsize = (15, 10))\n",
    "\n",
    "#Sigmoide\n",
    "reseau_entraine = RN_couche_cachee(X_complt, Y, sigmoide_et_sa_derivee)\n",
    "print(\"Sortie après l'apprentissage sigmoide : \")\n",
    "print(reseau_entraine[0])\n",
    "print('\\n')\n",
    "ax = fig.add_subplot(2, 2, 1)\n",
    "ax.plot(reseau_entraine[3])\n",
    "ax.set_title(\"Courbe d'erreur, sigmoide\")\n",
    "\n",
    "#Tangente hyperbolique\n",
    "reseau_entraine = RN_couche_cachee(X_complt, Y, tangente_hyperbolique_et_derivee)\n",
    "print(\"Sortie après l'apprentissage tanh : \")\n",
    "print(reseau_entraine[0])\n",
    "print('\\n')\n",
    "ax = fig.add_subplot(2, 2, 2)\n",
    "ax.plot(reseau_entraine[3])\n",
    "ax.set_title(\"Courbe d'erreur, tanh\")\n",
    "\n",
    "#Gaussienne\n",
    "reseau_entraine = RN_couche_cachee(X_complt, Y, gaussienne_et_derivee)\n",
    "print(\"Sortie après l'apprentissage gaussienne : \")\n",
    "print(reseau_entraine[0])\n",
    "print('\\n')\n",
    "ax = fig.add_subplot(2, 2, 3)\n",
    "ax.plot(reseau_entraine[3])\n",
    "ax.set_title(\"Courbe d'erreur, gaussienne\")\n",
    "\n",
    "#Arctangente\n",
    "reseau_entraine = RN_couche_cachee(X_complt, Y, arctangente_et_derivee)\n",
    "print(\"Sortie après l'apprentissage arctan : \")\n",
    "print(reseau_entraine[0])\n",
    "print('\\n')\n",
    "ax = fig.add_subplot(2, 2, 4)\n",
    "ax.plot(reseau_entraine[3])\n",
    "ax.set_title(\"Courbe d'erreur, arctan\")"
   ]
  },
  {
   "cell_type": "markdown",
   "metadata": {},
   "source": [
    "**Maintenant on créer un RN avec 2 couches cachées**"
   ]
  },
  {
   "cell_type": "code",
   "execution_count": 150,
   "metadata": {},
   "outputs": [],
   "source": [
    "def RN_2_couches_cachees(X, y, fonction_activation):\n",
    "    # On utilise seed pour rendre les calculs déterministes.\n",
    "    np.random.seed(1)\n",
    "    \n",
    "    # Initialisation aléatoire des poids (avec une moyenne = 0 et écart􀀀type=1)\n",
    "    # Ici, on met la moyenne à zéro, le std ne change pas.\n",
    "    \n",
    "    # L’écriture X = b*np.random.random((3,4)) - a\n",
    "    # permet un tirage dans [a,b)], ici entre b=1 et a=-1 (donc moyenne=0)\n",
    "    synapse0 = 2*np.random.random((3,2)) - 1\n",
    "    synapse1 = 2*np.random.random((2,4)) - 1\n",
    "    synapse2 = 2*np.random.random((4,1)) - 1\n",
    "    couche_entree = X\n",
    "    nb_iterations = 100000\n",
    "    err = []\n",
    "    for j in range(nb_iterations):\n",
    "        # propagation vers l’avant (forward)\n",
    "        # couche_entree = X\n",
    "        ponderation_cachee1 = np.dot(couche_entree,synapse0)\n",
    "        couche_cachee1 = fonction_activation(ponderation_cachee1)\n",
    "        ponderation_cachee2 = np.dot(couche_cachee1,synapse1)\n",
    "        couche_cachee2 = fonction_activation(ponderation_cachee2)\n",
    "        ponderation_sortie = np.dot(couche_cachee2,synapse2)\n",
    "        couche_sortie = fonction_activation(ponderation_sortie)\n",
    "        \n",
    "        # erreur ?\n",
    "        erreur_couche_sortie = y - couche_sortie\n",
    "        \n",
    "        moy=np.mean(np.abs(erreur_couche_sortie))\n",
    "        err.append(abs(moy))\n",
    "            \n",
    "        # pondération par l’erreur (si pente douce, ne pas trop changer sinon, changer pondérations,\n",
    "        delta_couche_sortie = erreur_couche_sortie*fonction_activation(ponderation_sortie,deriv=True)\n",
    "        \n",
    "        # Quelle est la contribution de couche_cachee àl’erreur de couche_sortie\n",
    "        # (suivant les pondérations)?\n",
    "        error_couche_cachee2 = delta_couche_sortie.dot(synapse2.T)\n",
    "        delta_couche_cachee2 = error_couche_cachee2 * fonction_activation(ponderation_cachee2,deriv=True)\n",
    "\n",
    "        error_couche_cachee1 = delta_couche_cachee2.dot(synapse1.T)\n",
    "        delta_couche_cachee1 = error_couche_cachee1 * fonction_activation(ponderation_cachee1,deriv=True)\n",
    "        \n",
    "        synapse2 += couche_cachee2.T.dot(delta_couche_sortie)\n",
    "        synapse1 += couche_cachee1.T.dot(delta_couche_cachee2)\n",
    "        synapse0 += couche_entree.T.dot(delta_couche_cachee1)\n",
    "    return couche_sortie, synapse0, synapse1, synapse2, err"
   ]
  },
  {
   "cell_type": "markdown",
   "metadata": {},
   "source": [
    "*On recommence toutes les étapes :*"
   ]
  },
  {
   "cell_type": "code",
   "execution_count": 151,
   "metadata": {},
   "outputs": [
    {
     "name": "stdout",
     "output_type": "stream",
     "text": [
      "Résultat de l’apprentissage :\n"
     ]
    },
    {
     "data": {
      "text/plain": [
       "array([[0.00236002],\n",
       "       [0.99624042],\n",
       "       [0.99907242],\n",
       "       [0.00222578]])"
      ]
     },
     "execution_count": 151,
     "metadata": {},
     "output_type": "execute_result"
    }
   ],
   "source": [
    "# Les entrées\n",
    "X = np.array([[0,0,1],\n",
    "              [0,1,1],\n",
    "              [1,0,1],\n",
    "              [1,1,1]])\n",
    "# Les sorties (ici un vecteur)\n",
    "Y = np.array([[0, 1, 1, 0]]).T # Transposé\n",
    "\n",
    "print (\"Résultat de l’apprentissage :\")\n",
    "RN_2_couches_cachees(X, Y, sigmoide_et_sa_derivee)[0]"
   ]
  },
  {
   "cell_type": "markdown",
   "metadata": {},
   "source": [
    "Testons notre réseaux entrainé avec cette table de valeur \n",
    "\n",
    "| x_1 | x_2 | x_3 | Sorties |\n",
    "|-----|-----|-----|---------|\n",
    "| 1   | 0   | 0   | 1       |\n",
    "| 0   | 0   | 0   | 0       |\n",
    "| 0   | 1   | 0   | 1       |\n",
    "\n",
    "et comparons les prédictions à la vérité."
   ]
  },
  {
   "cell_type": "code",
   "execution_count": 152,
   "metadata": {},
   "outputs": [
    {
     "name": "stdout",
     "output_type": "stream",
     "text": [
      "Prédiction sortie : \n"
     ]
    },
    {
     "data": {
      "text/plain": [
       "array([[0.99987699],\n",
       "       [0.99946124],\n",
       "       [0.99744242]])"
      ]
     },
     "execution_count": 152,
     "metadata": {},
     "output_type": "execute_result"
    }
   ],
   "source": [
    "# entrées à tester\n",
    "X_test = np.array([[1, 0, 0], \n",
    "                   [0, 0, 0], \n",
    "                   [0, 1, 0]])\n",
    "# Sorties théoriques\n",
    "Y_test = np.array([[1, 0, 1]]).T\n",
    "\n",
    "# On teste notre réseaux sur d'autre input\n",
    "reseau_entraine = RN_2_couches_cachees(X, Y, sigmoide_et_sa_derivee)\n",
    "couche_cachee1 = sigmoide_et_sa_derivee(np.dot(X_test, reseau_entraine[1]))\n",
    "couche_cachee2 = sigmoide_et_sa_derivee(np.dot(couche_cachee1, reseau_entraine[2]))\n",
    "couche_sortie = sigmoide_et_sa_derivee(np.dot(couche_cachee2, reseau_entraine[3]))\n",
    "print('Prédiction sortie : ')\n",
    "couche_sortie"
   ]
  },
  {
   "cell_type": "code",
   "execution_count": 141,
   "metadata": {},
   "outputs": [
    {
     "data": {
      "text/plain": [
       "0.13896143536277186"
      ]
     },
     "execution_count": 141,
     "metadata": {},
     "output_type": "execute_result"
    }
   ],
   "source": [
    "# Nous allons calculer le risque de l'estimateur pour la fonction de perte des moindres carrés\n",
    "erreur = 1/2*(couche_sortie - Y_test)**2\n",
    "risque = erreur.mean()\n",
    "risque"
   ]
  },
  {
   "cell_type": "markdown",
   "metadata": {},
   "source": [
    "On change de table de vérité et on choisit la table $x_1 \\wedge x_2 \\wedge \\neg x_3$"
   ]
  },
  {
   "cell_type": "code",
   "execution_count": 144,
   "metadata": {},
   "outputs": [
    {
     "name": "stdout",
     "output_type": "stream",
     "text": [
      "Sortie après l'apprentissage sigmoide : \n",
      "[[3.74291812e-04]\n",
      " [2.95676928e-06]\n",
      " [1.65265757e-03]\n",
      " [4.06845533e-05]\n",
      " [1.40016684e-03]\n",
      " [2.23513037e-04]\n",
      " [9.97414097e-01]\n",
      " [5.19171374e-04]]\n"
     ]
    },
    {
     "data": {
      "text/plain": [
       "Text(0.5, 1.0, \"Courbe d'erreur 2 couches cachées, sigmoide\")"
      ]
     },
     "execution_count": 144,
     "metadata": {},
     "output_type": "execute_result"
    },
    {
     "data": {
      "image/png": "[encoded data removed]",
      "text/plain": [
       "<Figure size 432x288 with 1 Axes>"
      ]
     },
     "metadata": {
      "needs_background": "light"
     },
     "output_type": "display_data"
    }
   ],
   "source": [
    "X_complt = np.array([[0, 0, 0], \n",
    "                     [0, 0, 1], \n",
    "                     [0, 1, 0], \n",
    "                     [0, 1, 1], \n",
    "                     [1, 0, 0], \n",
    "                     [1, 0, 1], \n",
    "                     [1, 1, 0], \n",
    "                     [1, 1, 1]])\n",
    "\n",
    "Y = np.array([[0, 0, 0, 0, 0, 0, 1, 0]]).T\n",
    "\n",
    "reseau_entraine = RN_2_couches_cachees(X_complt, Y, sigmoide_et_sa_derivee)\n",
    "print(\"Sortie après l'apprentissage sigmoide : \")\n",
    "print(reseau_entraine[0])\n",
    "plt.plot(reseau_entraine[4])\n",
    "plt.title(\"Courbe d'erreur 2 couches cachées, sigmoide\")"
   ]
  },
  {
   "cell_type": "code",
   "execution_count": 145,
   "metadata": {},
   "outputs": [
    {
     "name": "stdout",
     "output_type": "stream",
     "text": [
      "Sortie après l'apprentissage sigmoide : \n",
      "[[2.48028228e-04]\n",
      " [1.33210181e-09]\n",
      " [2.12695899e-03]\n",
      " [4.50353795e-05]\n",
      " [2.33382335e-03]\n",
      " [4.13944977e-05]\n",
      " [9.96477784e-01]\n",
      " [8.60003635e-04]]\n",
      "\n",
      "\n",
      "Sortie après l'apprentissage tanh : \n",
      "[[1.62549247e-04]\n",
      " [1.64527392e-10]\n",
      " [1.08117330e-03]\n",
      " [2.72394605e-05]\n",
      " [1.20002904e-03]\n",
      " [4.64030896e-05]\n",
      " [9.98232511e-01]\n",
      " [3.76439574e-04]]\n",
      "\n",
      "\n",
      "Sortie après l'apprentissage gaussienne : \n",
      "[[2.99118789e-29]\n",
      " [1.93955032e-09]\n",
      " [4.35895422e-04]\n",
      " [5.75007787e-10]\n",
      " [4.09915565e-04]\n",
      " [1.31024660e-04]\n",
      " [9.99154419e-01]\n",
      " [3.89596673e-04]]\n",
      "\n",
      "\n",
      "Sortie après l'apprentissage arctan : \n",
      "[[0.01413236]\n",
      " [0.0052599 ]\n",
      " [0.01561055]\n",
      " [0.00701101]\n",
      " [0.01535571]\n",
      " [0.00595065]\n",
      " [0.97836843]\n",
      " [0.0067402 ]]\n",
      "\n",
      "\n"
     ]
    },
    {
     "data": {
      "text/plain": [
       "Text(0.5, 1.0, \"Courbe d'erreur, arctan\")"
      ]
     },
     "execution_count": 145,
     "metadata": {},
     "output_type": "execute_result"
    },
    {
     "data": {
      "image/png": "[encoded data removed]",
      "text/plain": [
       "<Figure size 1080x720 with 4 Axes>"
      ]
     },
     "metadata": {
      "needs_background": "light"
     },
     "output_type": "display_data"
    }
   ],
   "source": [
    "# On trace toutes les erreurs des différentes fonctions d'activation\n",
    "fig = plt.figure(figsize = (15, 10))\n",
    "\n",
    "#Sigmoide\n",
    "reseau_entraine = RN_couche_cachee(X_complt, Y, sigmoide_et_sa_derivee)\n",
    "print(\"Sortie après l'apprentissage sigmoide : \")\n",
    "print(reseau_entraine[0])\n",
    "print('\\n')\n",
    "ax = fig.add_subplot(2, 2, 1)\n",
    "ax.plot(reseau_entraine[3])\n",
    "ax.set_title(\"Courbe d'erreur, sigmoide\")\n",
    "\n",
    "#Tangente hyperbolique\n",
    "reseau_entraine = RN_couche_cachee(X_complt, Y, tangente_hyperbolique_et_derivee)\n",
    "print(\"Sortie après l'apprentissage tanh : \")\n",
    "print(reseau_entraine[0])\n",
    "print('\\n')\n",
    "ax = fig.add_subplot(2, 2, 2)\n",
    "ax.plot(reseau_entraine[3])\n",
    "ax.set_title(\"Courbe d'erreur, tanh\")\n",
    "\n",
    "#Gaussienne\n",
    "reseau_entraine = RN_couche_cachee(X_complt, Y, gaussienne_et_derivee)\n",
    "print(\"Sortie après l'apprentissage gaussienne : \")\n",
    "print(reseau_entraine[0])\n",
    "print('\\n')\n",
    "ax = fig.add_subplot(2, 2, 3)\n",
    "ax.plot(reseau_entraine[3])\n",
    "ax.set_title(\"Courbe d'erreur, gaussienne\")\n",
    "\n",
    "#Arctangente\n",
    "reseau_entraine = RN_couche_cachee(X_complt, Y, arctangente_et_derivee)\n",
    "print(\"Sortie après l'apprentissage arctan : \")\n",
    "print(reseau_entraine[0])\n",
    "print('\\n')\n",
    "ax = fig.add_subplot(2, 2, 4)\n",
    "ax.plot(reseau_entraine[3])\n",
    "ax.set_title(\"Courbe d'erreur, arctan\")"
   ]
  },
  {
   "cell_type": "code",
   "execution_count": null,
   "metadata": {},
   "outputs": [],
   "source": []
  }
 ],
 "metadata": {
  "kernelspec": {
   "display_name": "Python 3",
   "language": "python",
   "name": "python3"
  },
  "language_info": {
   "codemirror_mode": {
    "name": "ipython",
    "version": 3
   },
   "file_extension": ".py",
   "mimetype": "text/x-python",
   "name": "python",
   "nbconvert_exporter": "python",
   "pygments_lexer": "ipython3",
   "version": "3.7.4"
  }
 },
 "nbformat": 4,
 "nbformat_minor": 2
}
