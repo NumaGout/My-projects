{
 "cells": [
  {
   "cell_type": "markdown",
   "metadata": {},
   "source": [
    "# Exercice 5 : Chaos Game par Numa Gout"
   ]
  },
  {
   "cell_type": "code",
   "execution_count": 1,
   "metadata": {},
   "outputs": [],
   "source": [
    "import numpy as np\n",
    "import matplotlib.pyplot as plt\n",
    "%matplotlib inline"
   ]
  },
  {
   "cell_type": "markdown",
   "metadata": {},
   "source": [
    "## Question 1 :\n",
    "\n",
    "Nous allons modéliser le joint de Sierpinski :\n",
    "- On considère un triangle équilatéral de coté 1.\n",
    "- On choisit un point dans ce triangle de manière aléatoire\n",
    "- On choisit le prochain point de la suite comme étant le milieu du point précédent avec un des trois sommets du triangle, choisi de manière aléatoire"
   ]
  },
  {
   "cell_type": "markdown",
   "metadata": {},
   "source": [
    "**Procédure**\n",
    "\n",
    "Nous allons utiliser les nombres complexes qui sont facilement manipulable sur python et adapté à beaucoup de bibliothèque, surtout numpy."
   ]
  },
  {
   "cell_type": "code",
   "execution_count": 2,
   "metadata": {},
   "outputs": [],
   "source": [
    "# On initialise les sommets du triangle\n",
    "sommets = [0, 1, np.exp(np.pi/3 * 1j)]"
   ]
  },
  {
   "cell_type": "code",
   "execution_count": 3,
   "metadata": {},
   "outputs": [],
   "source": [
    "def passage_sierpinski(p):\n",
    "    ''' Prend en entrée un nombre complexe et renvoie l element suivant '''\n",
    "    global sommets\n",
    "    return ((p + np.random.choice(sommets))/2)"
   ]
  },
  {
   "cell_type": "code",
   "execution_count": 4,
   "metadata": {},
   "outputs": [],
   "source": [
    "def zone_sierpinski(n):\n",
    "    ''' Renvoie les n premiers termes de la suite de Sierpinski '''\n",
    "    global sommets\n",
    "    b = True\n",
    "    while b: # boucle pour choisir aleatoirement un point dans le triangle\n",
    "        x, y = np.random.rand(), np.random.rand()\n",
    "        if x>1/2 and y<np.sqrt(3)*(1-x):\n",
    "            b = False\n",
    "        elif x<1/2 and y<np.sqrt(3)*x:\n",
    "            b = False\n",
    "            \n",
    "    P = [x+1j*y] # Initialisation de la liste des valeurs\n",
    "    for i in range(n):\n",
    "        P.append(passage_sierpinski(P[-1]))\n",
    "    return P"
   ]
  },
  {
   "cell_type": "code",
   "execution_count": 5,
   "metadata": {},
   "outputs": [
    {
     "data": {
      "text/plain": [
       "<matplotlib.legend.Legend at 0x226ae1a2308>"
      ]
     },
     "execution_count": 5,
     "metadata": {},
     "output_type": "execute_result"
    },
    {
     "data": {
      "image/png": "[encoded data removed]",
      "text/plain": [
       "<Figure size 432x288 with 1 Axes>"
      ]
     },
     "metadata": {
      "needs_background": "light"
     },
     "output_type": "display_data"
    }
   ],
   "source": [
    "# On plot les termes de la suite pour observer l'ensemble\n",
    "P = zone_sierpinski(10000)\n",
    "plt.scatter(np.real(P), np.imag(P), color = 'red', label = 'Structure') # On plot les elements de la suite\n",
    "plt.plot(np.real(sommets+[0]), np.imag(sommets+[0]), color = 'blue', label = 'Triangle') # On plot le triangle equilateral\n",
    "plt.title('Zone de Sierpinski')\n",
    "plt.legend()"
   ]
  },
  {
   "cell_type": "markdown",
   "metadata": {},
   "source": [
    "## Question 2 :\n",
    "\n",
    "Nous allons approcher la dimension de recouvrement du joint de Sierpinski"
   ]
  },
  {
   "cell_type": "code",
   "execution_count": 6,
   "metadata": {},
   "outputs": [],
   "source": [
    "def dimension_recouvrement_sierpinski(N,n):\n",
    "    ''' Renvoie une estimation de la dimension de recouvrement pour les n premiers elements et un maillage de N*N cases'''\n",
    "    eps = 1/N # pas du maillage\n",
    "    maillage = np.full((N, N), False) # Matrice de maillage\n",
    "    P = zone_sierpinski(n) # termes de la suite\n",
    "    for z in P: # boucle qui parcours tous les termes de la suite\n",
    "        a = np.real(z)\n",
    "        b = np.imag(z)\n",
    "        maillage[int(b*N), int(a*N)] = True # marque la case du maillage comme occupee\n",
    "    return (np.log(maillage.sum())/np.log(N))"
   ]
  },
  {
   "cell_type": "code",
   "execution_count": 7,
   "metadata": {},
   "outputs": [
    {
     "name": "stdout",
     "output_type": "stream",
     "text": [
      "Valeur théorique : 1.5849625007211563\n",
      "Valeur pratique : 1.585427829161359\n"
     ]
    }
   ],
   "source": [
    "theorie = np.log(3)/np.log(2) # valeur théorique\n",
    "pratique = dimension_recouvrement_sierpinski(2500, 500000) # Valeur experimentale\n",
    "print(\"Valeur théorique : \"+str(theorie))\n",
    "print(\"Valeur pratique : \"+str(pratique))"
   ]
  },
  {
   "cell_type": "markdown",
   "metadata": {},
   "source": [
    "Nous remarquons donc que la valeur théorique et la valeur pratique sont extrèmement proches.\n",
    "\n",
    "***Remarque :*** Mon programme n'est pas du tout long à executer. Au lieu de prendre chaque maillage et de voir s'il est vide je procède différemment :\n",
    "\n",
    "- je parcours tous les termes de la suite\n",
    "- calcule dans quel case du maillage ils sont avec la technique suivante : \n",
    "\n",
    "Soit le nombre complexe $z = a+ib$, pour un maillage de N*N cases sur l'ensemble $[0, 1]^2$, $z$ est dans la case de la ligne $i$ et de la colonne $j$ avec $i = E[b*N]$ et $j = E[b*N]$ où $E[x]$ est la partie entière de $x$\n",
    "\n",
    "- je marque les cases du maillages occupées, puis j'en fais la somme"
   ]
  },
  {
   "cell_type": "markdown",
   "metadata": {},
   "source": [
    "## Question 3 :\n",
    "\n",
    "Nous allons cette fois modéliser l'attracteur de Hénon, c'est à dire la suite définie pour $a$ et $b$ deux réels\n",
    "\n",
    "$$(x_0, y_0) \\in \\mathbb{R}^2$$\n",
    "\n",
    "$$\\begin{pmatrix}\n",
    "x_{n+1}\\\\\n",
    "y_{n+1}\n",
    "\\end{pmatrix} = \\begin{pmatrix}\n",
    "1+y_n-ax_n^2\\\\\n",
    "bx_n\n",
    "\\end{pmatrix}$$\n",
    "\n",
    "\n",
    "Par la suite on posera $(x_0, y_0) \\in [0,1]^2$ et $a = 1,4$, $b = 0.3$."
   ]
  },
  {
   "cell_type": "markdown",
   "metadata": {},
   "source": [
    "Par définition, cette suite diverge ou converge vers un attracteur, il y des cas où les algorithmes ne finissent donc pas car les valeurs atteignent des valeurs dépassant le $10^{256}$"
   ]
  },
  {
   "cell_type": "code",
   "execution_count": 8,
   "metadata": {},
   "outputs": [],
   "source": [
    "def passage_henon(x, y, a, b):\n",
    "    ''' Renvoie le termes suivant dans la suite de Henon de parametre a et b '''\n",
    "    return y+1-a*x**2, b*x"
   ]
  },
  {
   "cell_type": "code",
   "execution_count": 9,
   "metadata": {},
   "outputs": [],
   "source": [
    "def zone_henon(a, b, n):\n",
    "    ''' Renvoie les n premiers termes de la suite de Henon de parametre a et b'''\n",
    "    X = [np.random.rand()]\n",
    "    Y = [np.random.rand()]\n",
    "    for i in range(n):\n",
    "        x, y = passage_henon(X[-1], Y[-1], a, b)\n",
    "        X.append(x)\n",
    "        Y.append(y)\n",
    "    return X, Y"
   ]
  },
  {
   "cell_type": "code",
   "execution_count": 10,
   "metadata": {},
   "outputs": [
    {
     "data": {
      "text/plain": [
       "Text(0.5, 1.0, 'Zone de Hénon')"
      ]
     },
     "execution_count": 10,
     "metadata": {},
     "output_type": "execute_result"
    },
    {
     "data": {
      "image/png": "[encoded data removed]",
      "text/plain": [
       "<Figure size 432x288 with 1 Axes>"
      ]
     },
     "metadata": {
      "needs_background": "light"
     },
     "output_type": "display_data"
    }
   ],
   "source": [
    "X, Y = zone_henon(1.4, 0.3, 10000)\n",
    "plt.scatter(X, Y, color = 'red')\n",
    "plt.title('Zone de Hénon')"
   ]
  },
  {
   "cell_type": "markdown",
   "metadata": {},
   "source": [
    "***Calcul de la dimension de recouvrement***"
   ]
  },
  {
   "cell_type": "code",
   "execution_count": 11,
   "metadata": {},
   "outputs": [],
   "source": [
    "def dimension_recouvrement_henon(a, b, N, n):\n",
    "    ''' Renvoie une estimation de la dimension de recouvrement de l attracteur de Henon'''\n",
    "    eps = 2/N # 2/N car le maillage se fait sur [0,2]*[-1,1]\n",
    "    maillage = np.full((N, N), False)\n",
    "    X, Y = zone_henon(a, b, n)\n",
    "    for i in range(n+1):\n",
    "        x, y = X[i], Y[i]\n",
    "        maillage[int(x*(N//2)), int(y*(N//2))] = True # N//2 car le maillage se fait sur [0,2]*[-1,1]\n",
    "    return np.log(maillage.sum())/np.log(N)"
   ]
  },
  {
   "cell_type": "code",
   "execution_count": 13,
   "metadata": {
    "scrolled": true
   },
   "outputs": [
    {
     "data": {
      "text/plain": [
       "1.2825225977734656"
      ]
     },
     "execution_count": 13,
     "metadata": {},
     "output_type": "execute_result"
    }
   ],
   "source": [
    "dimension_recouvrement_henon(1.4, 0.3, 2500, 55000)"
   ]
  },
  {
   "cell_type": "markdown",
   "metadata": {},
   "source": [
    "On trouve donc la valeur approchée la dimension de recouvrement. Cependant les variables n et N respectivement le nombre de terme et le nombre de case du maillage ont une très forte important sur le calcul de la variable et ils ne doivent pas être arbitrairement grand pour converger.\n",
    "\n",
    "Regardez plutôt la case d'après :"
   ]
  },
  {
   "cell_type": "code",
   "execution_count": 19,
   "metadata": {
    "scrolled": false
   },
   "outputs": [
    {
     "name": "stdout",
     "output_type": "stream",
     "text": [
      "N = 1000, n = 50000 : 1.3216868402037327\n",
      "N = 1000, n = 10000 : 1.2441848599504772\n",
      "N = 1000, n = 20000 : 1.2896852062339694\n",
      "N = 500, n = 1000 : 1.0900484437751596\n",
      "N = 500, n = 5000 : 1.2632948917250453\n",
      "N = 500, n = 20000 : 1.3305727535105625\n"
     ]
    }
   ],
   "source": [
    "print('N = 1000, n = 50000 : '+str(dimension_recouvrement_henon(1.4, 0.3, 1000, 50000)))\n",
    "print('N = 1000, n = 10000 : '+str(dimension_recouvrement_henon(1.4, 0.3, 1000, 10000)))\n",
    "print('N = 1000, n = 20000 : '+str(dimension_recouvrement_henon(1.4, 0.3, 1000, 20000)))\n",
    "print('N = 500, n = 1000 : '+str(dimension_recouvrement_henon(1.4, 0.3, 500, 1000)))\n",
    "print('N = 500, n = 5000 : '+str(dimension_recouvrement_henon(1.4, 0.3, 500, 5000)))\n",
    "print('N = 500, n = 20000 : '+str(dimension_recouvrement_henon(1.4, 0.3, 500, 20000)))"
   ]
  },
  {
   "cell_type": "markdown",
   "metadata": {},
   "source": [
    "J'ai donc l'impression que la valeur est approchée seulement pour des couples de valeur vérifiant $n \\simeq 10N$ et converge lorsqu'ils tendent vers l'infini de cette manière"
   ]
  }
 ],
 "metadata": {
  "kernelspec": {
   "display_name": "Python 3",
   "language": "python",
   "name": "python3"
  },
  "language_info": {
   "codemirror_mode": {
    "name": "ipython",
    "version": 3
   },
   "file_extension": ".py",
   "mimetype": "text/x-python",
   "name": "python",
   "nbconvert_exporter": "python",
   "pygments_lexer": "ipython3",
   "version": "3.7.4"
  }
 },
 "nbformat": 4,
 "nbformat_minor": 2
}
